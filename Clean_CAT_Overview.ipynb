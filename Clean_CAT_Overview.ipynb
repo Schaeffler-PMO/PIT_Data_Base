{
 "cells": [
  {
   "cell_type": "code",
   "execution_count": null,
   "metadata": {},
   "outputs": [],
   "source": [
    "import  openpyxl \n",
    "import pandas as pd\n",
    "import numpy as np\n",
    "import os\n",
    "import re\n",
    "\n",
    "\n",
    "def process_excel_files(folder_path, file_names, sheet_name):\n",
    "    summed_data = {}        # Dictionary to store summed data for each cell.\n",
    "    files_with_sheet = 0       # Counter for files containing the specified sheet.\n",
    "\n",
    "    for file_name in file_names:\n",
    "        #File opening\n",
    "        file_path = os.path.join(folder_path, file_name)\n",
    "        workbook = openpyxl.load_workbook(file_path, data_only=True)\n",
    "        \n",
    "        #Checking version of PIT\n",
    "        cell_value = workbook['Info'].cell(row=4, column=4).value\n",
    "        match = re.search(r\"Version:\\s*([\\d.]+)\\s*as\", cell_value or \"\")\n",
    "        version = float(match.group(1)[:3]) if match else None\n",
    "        \n",
    "        # Skip the file if the version is not found or is less than 2.5 or if the sheet is not present.\n",
    "        if not version or version < 2.5 or sheet_name not in workbook.sheetnames:\n",
    "            continue\n",
    "        \n",
    "        files_with_sheet += 1  \n",
    "        sheet = workbook[sheet_name]\n",
    "\n",
    "        #Extract values from the specified cell range C1:D86 and store them in a list of dictionaries.\n",
    "        cell_range = sheet['C1:D86'] \n",
    "        data = [{'Cell': cell.coordinate,'Count_values': 1 if cell.value is not None else 0}\n",
    "                for row in cell_range for cell in row]\n",
    "        cell = sheet['F2']\n",
    "        data.append({'Cell': cell.coordinate,'Count_values': 1 if cell.value is not None else 0})\n",
    "        #print(data)\n",
    "\n",
    "        for entry in data:\n",
    "            cell_coord = entry['Cell']\n",
    "            if cell_coord not in summed_data:\n",
    "                summed_data[cell_coord] = {'Count_values': 0}\n",
    "            summed_data[cell_coord]['Count_values'] += entry['Count_values']\n",
    "            \n",
    "    # Calculate frequency for each cell and store it in result_data.\n",
    "    result_data = {}\n",
    "    for cell, values in summed_data.items():\n",
    "        frequency = values['Count_values'] / files_with_sheet\n",
    "        result_data[cell] = round(frequency, 2)\n",
    "\n",
    "    return result_data"
   ]
  },
  {
   "cell_type": "code",
   "execution_count": null,
   "metadata": {},
   "outputs": [
    {
     "name": "stderr",
     "output_type": "stream",
     "text": [
      "c:\\Users\\iwachpul\\AppData\\Local\\Programs\\Python\\Python313\\Lib\\site-packages\\openpyxl\\reader\\drawings.py:67: UserWarning: wmf image format is not supported so the image is being dropped\n",
      "  warn(msg)\n",
      "c:\\Users\\iwachpul\\AppData\\Local\\Programs\\Python\\Python313\\Lib\\site-packages\\openpyxl\\worksheet\\_reader.py:329: UserWarning: Data Validation extension is not supported and will be removed\n",
      "  warn(msg)\n"
     ]
    },
    {
     "name": "stdout",
     "output_type": "stream",
     "text": [
      "[{'Cell': 'C1', 'Count_values': 0}, {'Cell': 'D1', 'Count_values': 0}, {'Cell': 'C2', 'Count_values': 1}, {'Cell': 'D2', 'Count_values': 0}, {'Cell': 'C3', 'Count_values': 1}, {'Cell': 'D3', 'Count_values': 0}, {'Cell': 'C4', 'Count_values': 0}, {'Cell': 'D4', 'Count_values': 0}, {'Cell': 'C5', 'Count_values': 0}, {'Cell': 'D5', 'Count_values': 0}, {'Cell': 'C6', 'Count_values': 0}, {'Cell': 'D6', 'Count_values': 0}, {'Cell': 'C7', 'Count_values': 0}, {'Cell': 'D7', 'Count_values': 0}, {'Cell': 'C8', 'Count_values': 0}, {'Cell': 'D8', 'Count_values': 0}, {'Cell': 'C9', 'Count_values': 0}, {'Cell': 'D9', 'Count_values': 0}, {'Cell': 'C10', 'Count_values': 0}, {'Cell': 'D10', 'Count_values': 0}, {'Cell': 'C11', 'Count_values': 0}, {'Cell': 'D11', 'Count_values': 0}, {'Cell': 'C12', 'Count_values': 1}, {'Cell': 'D12', 'Count_values': 0}, {'Cell': 'C13', 'Count_values': 0}, {'Cell': 'D13', 'Count_values': 0}, {'Cell': 'C14', 'Count_values': 1}, {'Cell': 'D14', 'Count_values': 0}, {'Cell': 'C15', 'Count_values': 0}, {'Cell': 'D15', 'Count_values': 0}, {'Cell': 'C16', 'Count_values': 1}, {'Cell': 'D16', 'Count_values': 1}, {'Cell': 'C17', 'Count_values': 1}, {'Cell': 'D17', 'Count_values': 0}, {'Cell': 'C18', 'Count_values': 0}, {'Cell': 'D18', 'Count_values': 0}, {'Cell': 'C19', 'Count_values': 1}, {'Cell': 'D19', 'Count_values': 1}, {'Cell': 'C20', 'Count_values': 0}, {'Cell': 'D20', 'Count_values': 0}, {'Cell': 'C21', 'Count_values': 0}, {'Cell': 'D21', 'Count_values': 0}, {'Cell': 'C22', 'Count_values': 0}, {'Cell': 'D22', 'Count_values': 0}, {'Cell': 'C23', 'Count_values': 0}, {'Cell': 'D23', 'Count_values': 0}, {'Cell': 'C24', 'Count_values': 0}, {'Cell': 'D24', 'Count_values': 0}, {'Cell': 'C25', 'Count_values': 0}, {'Cell': 'D25', 'Count_values': 0}, {'Cell': 'C26', 'Count_values': 0}, {'Cell': 'D26', 'Count_values': 0}, {'Cell': 'C27', 'Count_values': 0}, {'Cell': 'D27', 'Count_values': 0}, {'Cell': 'C28', 'Count_values': 0}, {'Cell': 'D28', 'Count_values': 0}, {'Cell': 'C29', 'Count_values': 0}, {'Cell': 'D29', 'Count_values': 0}, {'Cell': 'C30', 'Count_values': 0}, {'Cell': 'D30', 'Count_values': 0}, {'Cell': 'C31', 'Count_values': 0}, {'Cell': 'D31', 'Count_values': 0}, {'Cell': 'C32', 'Count_values': 0}, {'Cell': 'D32', 'Count_values': 0}, {'Cell': 'C33', 'Count_values': 0}, {'Cell': 'D33', 'Count_values': 0}, {'Cell': 'C34', 'Count_values': 0}, {'Cell': 'D34', 'Count_values': 0}, {'Cell': 'C35', 'Count_values': 0}, {'Cell': 'D35', 'Count_values': 0}, {'Cell': 'C36', 'Count_values': 0}, {'Cell': 'D36', 'Count_values': 0}, {'Cell': 'C37', 'Count_values': 1}, {'Cell': 'D37', 'Count_values': 1}, {'Cell': 'C38', 'Count_values': 0}, {'Cell': 'D38', 'Count_values': 0}, {'Cell': 'C39', 'Count_values': 0}, {'Cell': 'D39', 'Count_values': 0}, {'Cell': 'C40', 'Count_values': 0}, {'Cell': 'D40', 'Count_values': 0}, {'Cell': 'C41', 'Count_values': 0}, {'Cell': 'D41', 'Count_values': 0}, {'Cell': 'C42', 'Count_values': 0}, {'Cell': 'D42', 'Count_values': 0}, {'Cell': 'C43', 'Count_values': 0}, {'Cell': 'D43', 'Count_values': 0}, {'Cell': 'C44', 'Count_values': 0}, {'Cell': 'D44', 'Count_values': 0}, {'Cell': 'C45', 'Count_values': 0}, {'Cell': 'D45', 'Count_values': 0}, {'Cell': 'C46', 'Count_values': 0}, {'Cell': 'D46', 'Count_values': 0}, {'Cell': 'C47', 'Count_values': 0}, {'Cell': 'D47', 'Count_values': 0}, {'Cell': 'C48', 'Count_values': 0}, {'Cell': 'D48', 'Count_values': 0}, {'Cell': 'C49', 'Count_values': 0}, {'Cell': 'D49', 'Count_values': 0}, {'Cell': 'C50', 'Count_values': 0}, {'Cell': 'D50', 'Count_values': 0}, {'Cell': 'C51', 'Count_values': 0}, {'Cell': 'D51', 'Count_values': 0}, {'Cell': 'C52', 'Count_values': 0}, {'Cell': 'D52', 'Count_values': 0}, {'Cell': 'C53', 'Count_values': 0}, {'Cell': 'D53', 'Count_values': 0}, {'Cell': 'C54', 'Count_values': 0}, {'Cell': 'D54', 'Count_values': 0}, {'Cell': 'C55', 'Count_values': 1}, {'Cell': 'D55', 'Count_values': 1}, {'Cell': 'C56', 'Count_values': 0}, {'Cell': 'D56', 'Count_values': 0}, {'Cell': 'C57', 'Count_values': 0}, {'Cell': 'D57', 'Count_values': 0}, {'Cell': 'C58', 'Count_values': 0}, {'Cell': 'D58', 'Count_values': 0}, {'Cell': 'C59', 'Count_values': 0}, {'Cell': 'D59', 'Count_values': 0}, {'Cell': 'C60', 'Count_values': 0}, {'Cell': 'D60', 'Count_values': 0}, {'Cell': 'C61', 'Count_values': 0}, {'Cell': 'D61', 'Count_values': 0}, {'Cell': 'C62', 'Count_values': 0}, {'Cell': 'D62', 'Count_values': 0}, {'Cell': 'C63', 'Count_values': 0}, {'Cell': 'D63', 'Count_values': 0}, {'Cell': 'C64', 'Count_values': 0}, {'Cell': 'D64', 'Count_values': 0}, {'Cell': 'C65', 'Count_values': 0}, {'Cell': 'D65', 'Count_values': 0}, {'Cell': 'C66', 'Count_values': 0}, {'Cell': 'D66', 'Count_values': 0}, {'Cell': 'C67', 'Count_values': 0}, {'Cell': 'D67', 'Count_values': 0}, {'Cell': 'C68', 'Count_values': 0}, {'Cell': 'D68', 'Count_values': 0}, {'Cell': 'C69', 'Count_values': 0}, {'Cell': 'D69', 'Count_values': 0}, {'Cell': 'C70', 'Count_values': 0}, {'Cell': 'D70', 'Count_values': 0}, {'Cell': 'C71', 'Count_values': 0}, {'Cell': 'D71', 'Count_values': 0}, {'Cell': 'C72', 'Count_values': 0}, {'Cell': 'D72', 'Count_values': 0}, {'Cell': 'C73', 'Count_values': 1}, {'Cell': 'D73', 'Count_values': 1}, {'Cell': 'C74', 'Count_values': 1}, {'Cell': 'D74', 'Count_values': 0}, {'Cell': 'C75', 'Count_values': 1}, {'Cell': 'D75', 'Count_values': 0}, {'Cell': 'C76', 'Count_values': 0}, {'Cell': 'D76', 'Count_values': 0}, {'Cell': 'C77', 'Count_values': 0}, {'Cell': 'D77', 'Count_values': 0}, {'Cell': 'C78', 'Count_values': 1}, {'Cell': 'D78', 'Count_values': 1}, {'Cell': 'C79', 'Count_values': 0}, {'Cell': 'D79', 'Count_values': 0}, {'Cell': 'C80', 'Count_values': 0}, {'Cell': 'D80', 'Count_values': 0}, {'Cell': 'C81', 'Count_values': 0}, {'Cell': 'D81', 'Count_values': 0}, {'Cell': 'C82', 'Count_values': 0}, {'Cell': 'D82', 'Count_values': 0}, {'Cell': 'C83', 'Count_values': 0}, {'Cell': 'D83', 'Count_values': 0}, {'Cell': 'C84', 'Count_values': 0}, {'Cell': 'D84', 'Count_values': 0}, {'Cell': 'C85', 'Count_values': 0}, {'Cell': 'D85', 'Count_values': 0}, {'Cell': 'C86', 'Count_values': 0}, {'Cell': 'D86', 'Count_values': 0}, {'Cell': 'F2', 'Count_values': 0}]\n",
      "[{'Cell': 'C1', 'Count_values': 0}, {'Cell': 'D1', 'Count_values': 0}, {'Cell': 'C2', 'Count_values': 1}, {'Cell': 'D2', 'Count_values': 0}, {'Cell': 'C3', 'Count_values': 1}, {'Cell': 'D3', 'Count_values': 0}, {'Cell': 'C4', 'Count_values': 0}, {'Cell': 'D4', 'Count_values': 0}, {'Cell': 'C5', 'Count_values': 0}, {'Cell': 'D5', 'Count_values': 0}, {'Cell': 'C6', 'Count_values': 1}, {'Cell': 'D6', 'Count_values': 0}, {'Cell': 'C7', 'Count_values': 0}, {'Cell': 'D7', 'Count_values': 0}, {'Cell': 'C8', 'Count_values': 0}, {'Cell': 'D8', 'Count_values': 0}, {'Cell': 'C9', 'Count_values': 0}, {'Cell': 'D9', 'Count_values': 0}, {'Cell': 'C10', 'Count_values': 0}, {'Cell': 'D10', 'Count_values': 0}, {'Cell': 'C11', 'Count_values': 0}, {'Cell': 'D11', 'Count_values': 0}, {'Cell': 'C12', 'Count_values': 1}, {'Cell': 'D12', 'Count_values': 0}, {'Cell': 'C13', 'Count_values': 0}, {'Cell': 'D13', 'Count_values': 0}, {'Cell': 'C14', 'Count_values': 1}, {'Cell': 'D14', 'Count_values': 0}, {'Cell': 'C15', 'Count_values': 0}, {'Cell': 'D15', 'Count_values': 0}, {'Cell': 'C16', 'Count_values': 1}, {'Cell': 'D16', 'Count_values': 1}, {'Cell': 'C17', 'Count_values': 1}, {'Cell': 'D17', 'Count_values': 0}, {'Cell': 'C18', 'Count_values': 0}, {'Cell': 'D18', 'Count_values': 0}, {'Cell': 'C19', 'Count_values': 1}, {'Cell': 'D19', 'Count_values': 1}, {'Cell': 'C20', 'Count_values': 0}, {'Cell': 'D20', 'Count_values': 0}, {'Cell': 'C21', 'Count_values': 0}, {'Cell': 'D21', 'Count_values': 0}, {'Cell': 'C22', 'Count_values': 0}, {'Cell': 'D22', 'Count_values': 0}, {'Cell': 'C23', 'Count_values': 0}, {'Cell': 'D23', 'Count_values': 0}, {'Cell': 'C24', 'Count_values': 0}, {'Cell': 'D24', 'Count_values': 0}, {'Cell': 'C25', 'Count_values': 0}, {'Cell': 'D25', 'Count_values': 0}, {'Cell': 'C26', 'Count_values': 0}, {'Cell': 'D26', 'Count_values': 0}, {'Cell': 'C27', 'Count_values': 0}, {'Cell': 'D27', 'Count_values': 0}, {'Cell': 'C28', 'Count_values': 0}, {'Cell': 'D28', 'Count_values': 0}, {'Cell': 'C29', 'Count_values': 0}, {'Cell': 'D29', 'Count_values': 0}, {'Cell': 'C30', 'Count_values': 0}, {'Cell': 'D30', 'Count_values': 0}, {'Cell': 'C31', 'Count_values': 0}, {'Cell': 'D31', 'Count_values': 0}, {'Cell': 'C32', 'Count_values': 0}, {'Cell': 'D32', 'Count_values': 0}, {'Cell': 'C33', 'Count_values': 0}, {'Cell': 'D33', 'Count_values': 0}, {'Cell': 'C34', 'Count_values': 0}, {'Cell': 'D34', 'Count_values': 0}, {'Cell': 'C35', 'Count_values': 0}, {'Cell': 'D35', 'Count_values': 0}, {'Cell': 'C36', 'Count_values': 0}, {'Cell': 'D36', 'Count_values': 0}, {'Cell': 'C37', 'Count_values': 1}, {'Cell': 'D37', 'Count_values': 1}, {'Cell': 'C38', 'Count_values': 0}, {'Cell': 'D38', 'Count_values': 0}, {'Cell': 'C39', 'Count_values': 0}, {'Cell': 'D39', 'Count_values': 0}, {'Cell': 'C40', 'Count_values': 0}, {'Cell': 'D40', 'Count_values': 0}, {'Cell': 'C41', 'Count_values': 0}, {'Cell': 'D41', 'Count_values': 0}, {'Cell': 'C42', 'Count_values': 0}, {'Cell': 'D42', 'Count_values': 0}, {'Cell': 'C43', 'Count_values': 0}, {'Cell': 'D43', 'Count_values': 0}, {'Cell': 'C44', 'Count_values': 0}, {'Cell': 'D44', 'Count_values': 0}, {'Cell': 'C45', 'Count_values': 0}, {'Cell': 'D45', 'Count_values': 0}, {'Cell': 'C46', 'Count_values': 0}, {'Cell': 'D46', 'Count_values': 0}, {'Cell': 'C47', 'Count_values': 0}, {'Cell': 'D47', 'Count_values': 0}, {'Cell': 'C48', 'Count_values': 0}, {'Cell': 'D48', 'Count_values': 0}, {'Cell': 'C49', 'Count_values': 0}, {'Cell': 'D49', 'Count_values': 0}, {'Cell': 'C50', 'Count_values': 0}, {'Cell': 'D50', 'Count_values': 0}, {'Cell': 'C51', 'Count_values': 0}, {'Cell': 'D51', 'Count_values': 0}, {'Cell': 'C52', 'Count_values': 0}, {'Cell': 'D52', 'Count_values': 0}, {'Cell': 'C53', 'Count_values': 0}, {'Cell': 'D53', 'Count_values': 0}, {'Cell': 'C54', 'Count_values': 0}, {'Cell': 'D54', 'Count_values': 0}, {'Cell': 'C55', 'Count_values': 1}, {'Cell': 'D55', 'Count_values': 1}, {'Cell': 'C56', 'Count_values': 0}, {'Cell': 'D56', 'Count_values': 0}, {'Cell': 'C57', 'Count_values': 0}, {'Cell': 'D57', 'Count_values': 0}, {'Cell': 'C58', 'Count_values': 0}, {'Cell': 'D58', 'Count_values': 0}, {'Cell': 'C59', 'Count_values': 0}, {'Cell': 'D59', 'Count_values': 0}, {'Cell': 'C60', 'Count_values': 0}, {'Cell': 'D60', 'Count_values': 0}, {'Cell': 'C61', 'Count_values': 0}, {'Cell': 'D61', 'Count_values': 0}, {'Cell': 'C62', 'Count_values': 0}, {'Cell': 'D62', 'Count_values': 0}, {'Cell': 'C63', 'Count_values': 0}, {'Cell': 'D63', 'Count_values': 0}, {'Cell': 'C64', 'Count_values': 0}, {'Cell': 'D64', 'Count_values': 0}, {'Cell': 'C65', 'Count_values': 0}, {'Cell': 'D65', 'Count_values': 0}, {'Cell': 'C66', 'Count_values': 0}, {'Cell': 'D66', 'Count_values': 0}, {'Cell': 'C67', 'Count_values': 0}, {'Cell': 'D67', 'Count_values': 0}, {'Cell': 'C68', 'Count_values': 0}, {'Cell': 'D68', 'Count_values': 0}, {'Cell': 'C69', 'Count_values': 0}, {'Cell': 'D69', 'Count_values': 0}, {'Cell': 'C70', 'Count_values': 0}, {'Cell': 'D70', 'Count_values': 0}, {'Cell': 'C71', 'Count_values': 0}, {'Cell': 'D71', 'Count_values': 0}, {'Cell': 'C72', 'Count_values': 0}, {'Cell': 'D72', 'Count_values': 0}, {'Cell': 'C73', 'Count_values': 1}, {'Cell': 'D73', 'Count_values': 1}, {'Cell': 'C74', 'Count_values': 1}, {'Cell': 'D74', 'Count_values': 0}, {'Cell': 'C75', 'Count_values': 1}, {'Cell': 'D75', 'Count_values': 0}, {'Cell': 'C76', 'Count_values': 1}, {'Cell': 'D76', 'Count_values': 0}, {'Cell': 'C77', 'Count_values': 0}, {'Cell': 'D77', 'Count_values': 0}, {'Cell': 'C78', 'Count_values': 1}, {'Cell': 'D78', 'Count_values': 1}, {'Cell': 'C79', 'Count_values': 0}, {'Cell': 'D79', 'Count_values': 0}, {'Cell': 'C80', 'Count_values': 0}, {'Cell': 'D80', 'Count_values': 0}, {'Cell': 'C81', 'Count_values': 0}, {'Cell': 'D81', 'Count_values': 0}, {'Cell': 'C82', 'Count_values': 0}, {'Cell': 'D82', 'Count_values': 1}, {'Cell': 'C83', 'Count_values': 0}, {'Cell': 'D83', 'Count_values': 0}, {'Cell': 'C84', 'Count_values': 0}, {'Cell': 'D84', 'Count_values': 0}, {'Cell': 'C85', 'Count_values': 0}, {'Cell': 'D85', 'Count_values': 1}, {'Cell': 'C86', 'Count_values': 0}, {'Cell': 'D86', 'Count_values': 1}, {'Cell': 'F2', 'Count_values': 0}]\n",
      "[{'Cell': 'C1', 'Count_values': 0}, {'Cell': 'D1', 'Count_values': 0}, {'Cell': 'C2', 'Count_values': 1}, {'Cell': 'D2', 'Count_values': 0}, {'Cell': 'C3', 'Count_values': 1}, {'Cell': 'D3', 'Count_values': 0}, {'Cell': 'C4', 'Count_values': 0}, {'Cell': 'D4', 'Count_values': 0}, {'Cell': 'C5', 'Count_values': 0}, {'Cell': 'D5', 'Count_values': 0}, {'Cell': 'C6', 'Count_values': 0}, {'Cell': 'D6', 'Count_values': 0}, {'Cell': 'C7', 'Count_values': 0}, {'Cell': 'D7', 'Count_values': 0}, {'Cell': 'C8', 'Count_values': 0}, {'Cell': 'D8', 'Count_values': 0}, {'Cell': 'C9', 'Count_values': 0}, {'Cell': 'D9', 'Count_values': 0}, {'Cell': 'C10', 'Count_values': 0}, {'Cell': 'D10', 'Count_values': 0}, {'Cell': 'C11', 'Count_values': 0}, {'Cell': 'D11', 'Count_values': 0}, {'Cell': 'C12', 'Count_values': 1}, {'Cell': 'D12', 'Count_values': 0}, {'Cell': 'C13', 'Count_values': 0}, {'Cell': 'D13', 'Count_values': 0}, {'Cell': 'C14', 'Count_values': 1}, {'Cell': 'D14', 'Count_values': 0}, {'Cell': 'C15', 'Count_values': 0}, {'Cell': 'D15', 'Count_values': 0}, {'Cell': 'C16', 'Count_values': 1}, {'Cell': 'D16', 'Count_values': 1}, {'Cell': 'C17', 'Count_values': 1}, {'Cell': 'D17', 'Count_values': 0}, {'Cell': 'C18', 'Count_values': 0}, {'Cell': 'D18', 'Count_values': 0}, {'Cell': 'C19', 'Count_values': 1}, {'Cell': 'D19', 'Count_values': 1}, {'Cell': 'C20', 'Count_values': 0}, {'Cell': 'D20', 'Count_values': 0}, {'Cell': 'C21', 'Count_values': 0}, {'Cell': 'D21', 'Count_values': 0}, {'Cell': 'C22', 'Count_values': 0}, {'Cell': 'D22', 'Count_values': 0}, {'Cell': 'C23', 'Count_values': 0}, {'Cell': 'D23', 'Count_values': 0}, {'Cell': 'C24', 'Count_values': 0}, {'Cell': 'D24', 'Count_values': 0}, {'Cell': 'C25', 'Count_values': 0}, {'Cell': 'D25', 'Count_values': 0}, {'Cell': 'C26', 'Count_values': 0}, {'Cell': 'D26', 'Count_values': 0}, {'Cell': 'C27', 'Count_values': 0}, {'Cell': 'D27', 'Count_values': 0}, {'Cell': 'C28', 'Count_values': 0}, {'Cell': 'D28', 'Count_values': 0}, {'Cell': 'C29', 'Count_values': 0}, {'Cell': 'D29', 'Count_values': 0}, {'Cell': 'C30', 'Count_values': 0}, {'Cell': 'D30', 'Count_values': 0}, {'Cell': 'C31', 'Count_values': 0}, {'Cell': 'D31', 'Count_values': 0}, {'Cell': 'C32', 'Count_values': 0}, {'Cell': 'D32', 'Count_values': 0}, {'Cell': 'C33', 'Count_values': 0}, {'Cell': 'D33', 'Count_values': 0}, {'Cell': 'C34', 'Count_values': 0}, {'Cell': 'D34', 'Count_values': 0}, {'Cell': 'C35', 'Count_values': 0}, {'Cell': 'D35', 'Count_values': 0}, {'Cell': 'C36', 'Count_values': 0}, {'Cell': 'D36', 'Count_values': 0}, {'Cell': 'C37', 'Count_values': 1}, {'Cell': 'D37', 'Count_values': 1}, {'Cell': 'C38', 'Count_values': 0}, {'Cell': 'D38', 'Count_values': 0}, {'Cell': 'C39', 'Count_values': 0}, {'Cell': 'D39', 'Count_values': 0}, {'Cell': 'C40', 'Count_values': 0}, {'Cell': 'D40', 'Count_values': 0}, {'Cell': 'C41', 'Count_values': 0}, {'Cell': 'D41', 'Count_values': 0}, {'Cell': 'C42', 'Count_values': 0}, {'Cell': 'D42', 'Count_values': 0}, {'Cell': 'C43', 'Count_values': 0}, {'Cell': 'D43', 'Count_values': 0}, {'Cell': 'C44', 'Count_values': 0}, {'Cell': 'D44', 'Count_values': 0}, {'Cell': 'C45', 'Count_values': 0}, {'Cell': 'D45', 'Count_values': 0}, {'Cell': 'C46', 'Count_values': 0}, {'Cell': 'D46', 'Count_values': 0}, {'Cell': 'C47', 'Count_values': 0}, {'Cell': 'D47', 'Count_values': 0}, {'Cell': 'C48', 'Count_values': 0}, {'Cell': 'D48', 'Count_values': 0}, {'Cell': 'C49', 'Count_values': 0}, {'Cell': 'D49', 'Count_values': 0}, {'Cell': 'C50', 'Count_values': 0}, {'Cell': 'D50', 'Count_values': 0}, {'Cell': 'C51', 'Count_values': 0}, {'Cell': 'D51', 'Count_values': 0}, {'Cell': 'C52', 'Count_values': 0}, {'Cell': 'D52', 'Count_values': 0}, {'Cell': 'C53', 'Count_values': 0}, {'Cell': 'D53', 'Count_values': 0}, {'Cell': 'C54', 'Count_values': 0}, {'Cell': 'D54', 'Count_values': 0}, {'Cell': 'C55', 'Count_values': 1}, {'Cell': 'D55', 'Count_values': 1}, {'Cell': 'C56', 'Count_values': 0}, {'Cell': 'D56', 'Count_values': 0}, {'Cell': 'C57', 'Count_values': 0}, {'Cell': 'D57', 'Count_values': 0}, {'Cell': 'C58', 'Count_values': 0}, {'Cell': 'D58', 'Count_values': 0}, {'Cell': 'C59', 'Count_values': 0}, {'Cell': 'D59', 'Count_values': 0}, {'Cell': 'C60', 'Count_values': 0}, {'Cell': 'D60', 'Count_values': 0}, {'Cell': 'C61', 'Count_values': 0}, {'Cell': 'D61', 'Count_values': 0}, {'Cell': 'C62', 'Count_values': 0}, {'Cell': 'D62', 'Count_values': 0}, {'Cell': 'C63', 'Count_values': 0}, {'Cell': 'D63', 'Count_values': 0}, {'Cell': 'C64', 'Count_values': 0}, {'Cell': 'D64', 'Count_values': 0}, {'Cell': 'C65', 'Count_values': 0}, {'Cell': 'D65', 'Count_values': 0}, {'Cell': 'C66', 'Count_values': 0}, {'Cell': 'D66', 'Count_values': 0}, {'Cell': 'C67', 'Count_values': 0}, {'Cell': 'D67', 'Count_values': 0}, {'Cell': 'C68', 'Count_values': 0}, {'Cell': 'D68', 'Count_values': 0}, {'Cell': 'C69', 'Count_values': 0}, {'Cell': 'D69', 'Count_values': 0}, {'Cell': 'C70', 'Count_values': 0}, {'Cell': 'D70', 'Count_values': 0}, {'Cell': 'C71', 'Count_values': 0}, {'Cell': 'D71', 'Count_values': 0}, {'Cell': 'C72', 'Count_values': 0}, {'Cell': 'D72', 'Count_values': 0}, {'Cell': 'C73', 'Count_values': 1}, {'Cell': 'D73', 'Count_values': 1}, {'Cell': 'C74', 'Count_values': 1}, {'Cell': 'D74', 'Count_values': 0}, {'Cell': 'C75', 'Count_values': 1}, {'Cell': 'D75', 'Count_values': 0}, {'Cell': 'C76', 'Count_values': 0}, {'Cell': 'D76', 'Count_values': 0}, {'Cell': 'C77', 'Count_values': 0}, {'Cell': 'D77', 'Count_values': 0}, {'Cell': 'C78', 'Count_values': 1}, {'Cell': 'D78', 'Count_values': 1}, {'Cell': 'C79', 'Count_values': 0}, {'Cell': 'D79', 'Count_values': 0}, {'Cell': 'C80', 'Count_values': 0}, {'Cell': 'D80', 'Count_values': 0}, {'Cell': 'C81', 'Count_values': 0}, {'Cell': 'D81', 'Count_values': 0}, {'Cell': 'C82', 'Count_values': 0}, {'Cell': 'D82', 'Count_values': 0}, {'Cell': 'C83', 'Count_values': 0}, {'Cell': 'D83', 'Count_values': 0}, {'Cell': 'C84', 'Count_values': 0}, {'Cell': 'D84', 'Count_values': 0}, {'Cell': 'C85', 'Count_values': 0}, {'Cell': 'D85', 'Count_values': 0}, {'Cell': 'C86', 'Count_values': 0}, {'Cell': 'D86', 'Count_values': 0}, {'Cell': 'F2', 'Count_values': 0}]\n"
     ]
    }
   ],
   "source": [
    "folder_path = os.path.join(os.getcwd(), \"Audi_SSP_LK3 _4\")\n",
    "sheet_name = 'CAT - Overview'\n",
    "file_names = [f for f in os.listdir(folder_path)]\n",
    "result_data = process_excel_files(folder_path, file_names, sheet_name)"
   ]
  },
  {
   "cell_type": "code",
   "execution_count": null,
   "metadata": {},
   "outputs": [],
   "source": [
    "result_sheet = openpyxl.load_workbook('My_version_template.xlsx', keep_vba= False)\n",
    "ws = result_sheet['CAT - Overview'] \n",
    "\n",
    "for key, value in result_data.items():\n",
    "    ws[key] = value\n",
    "\n",
    "result_sheet.save('PIT_Template_v.2.6_edytowany.xlsx')"
   ]
  }
 ],
 "metadata": {
  "kernelspec": {
   "display_name": "Python 3",
   "language": "python",
   "name": "python3"
  },
  "language_info": {
   "codemirror_mode": {
    "name": "ipython",
    "version": 3
   },
   "file_extension": ".py",
   "mimetype": "text/x-python",
   "name": "python",
   "nbconvert_exporter": "python",
   "pygments_lexer": "ipython3",
   "version": "3.13.0"
  }
 },
 "nbformat": 4,
 "nbformat_minor": 2
}
