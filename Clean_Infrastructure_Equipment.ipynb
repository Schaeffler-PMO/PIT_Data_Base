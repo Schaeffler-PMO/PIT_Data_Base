{
 "cells": [
  {
   "cell_type": "code",
   "execution_count": 1,
   "metadata": {},
   "outputs": [],
   "source": [
    "import  openpyxl \n",
    "import pandas as pd\n",
    "import numpy as np\n",
    "import os\n",
    "import re\n",
    "\n",
    "\n",
    "def checkVersion(workbook):\n",
    "        cell_value = workbook['Info'].cell(row=4, column=4).value\n",
    "        match = re.search(r\"Version:\\s*([\\d.]+)\\s*as\", cell_value or \"\")\n",
    "        version = float(match.group(1)[:3]) if match else None\n",
    "        return version\n",
    "\n",
    "\n",
    "def get_data_from_ranges(sheet, ranges):\n",
    "    data = []\n",
    "    for cell_range in ranges:\n",
    "        if \":\" not in cell_range:\n",
    "            cell = sheet[cell_range]\n",
    "            data.append({'Cell': cell.coordinate,'Count_values': 1 if cell.value is not None else 0})\n",
    "        else:\n",
    "            for row in sheet[cell_range]:\n",
    "                for cell in row:\n",
    "                    data.append({'Cell': cell.coordinate, 'Count_values': 1 if cell.value is not None else 0})\n",
    "    return data\n",
    "\n",
    "\n",
    "def get_ranges_for_version(version):\n",
    "    if version in [2.4, 2.5]:\n",
    "        return ['B11:B20','C8','F11:J20','H8']\n",
    "    elif version ==2.6 :\n",
    "        return ['B11:B50', 'C8','F11:J50', 'H8']\n",
    "    else:\n",
    "        return [] \n",
    "    \n",
    "\n",
    "def process_excel_files(folder_path, file_names, sheet_name):\n",
    "    summed_data = {}\n",
    "    cell_file_count = {}\n",
    "\n",
    "    for file_name in file_names:\n",
    "        file_path = os.path.join(folder_path, file_name)\n",
    "        workbook = openpyxl.load_workbook(file_path, data_only=True)\n",
    "\n",
    "        version = checkVersion(workbook)\n",
    "        if not version or version < 2.4 or sheet_name not in workbook.sheetnames:\n",
    "            continue\n",
    "\n",
    "        sheet = workbook[sheet_name]\n",
    "        range_ver = get_ranges_for_version(version)\n",
    "        data = get_data_from_ranges(sheet, range_ver)\n",
    "\n",
    "        df = pd.DataFrame(data)\n",
    "        for _, row in df.iterrows():\n",
    "            key = row['Cell']\n",
    "            if key not in summed_data:\n",
    "                summed_data[key] = {'Count_values': 0}\n",
    "                cell_file_count[key] = 0\n",
    "\n",
    "            summed_data[key]['Count_values'] += row['Count_values']\n",
    "            cell_file_count[key] += 1\n",
    "\n",
    "    result_data = {}\n",
    "    for cell, values in summed_data.items():\n",
    "        frequency = values['Count_values'] / cell_file_count[cell] if cell_file_count[cell] > 0 else 0\n",
    "        result_data[cell] = round(frequency, 2)\n",
    "\n",
    "    return result_data"
   ]
  },
  {
   "cell_type": "code",
   "execution_count": null,
   "metadata": {},
   "outputs": [
    {
     "name": "stderr",
     "output_type": "stream",
     "text": [
      "c:\\Users\\iwachpul\\AppData\\Local\\Programs\\Python\\Python313\\Lib\\site-packages\\openpyxl\\reader\\drawings.py:67: UserWarning: wmf image format is not supported so the image is being dropped\n",
      "  warn(msg)\n",
      "c:\\Users\\iwachpul\\AppData\\Local\\Programs\\Python\\Python313\\Lib\\site-packages\\openpyxl\\worksheet\\_reader.py:329: UserWarning: Data Validation extension is not supported and will be removed\n",
      "  warn(msg)\n"
     ]
    }
   ],
   "source": [
    "folder_path = os.path.join(os.getcwd(), \"TEST_for_Infrastructure_Equipment\")\n",
    "sheet_name = 'Infrastructure_Equipment'\n",
    "file_names = [f for f in os.listdir(folder_path)]\n",
    "result_data = process_excel_files(folder_path, file_names, sheet_name)"
   ]
  },
  {
   "cell_type": "code",
   "execution_count": null,
   "metadata": {},
   "outputs": [],
   "source": [
    "result_sheet = openpyxl.load_workbook('My_version_template.xlsx', keep_vba= False)\n",
    "ws = result_sheet['Infrastructure_Equipment'] \n",
    "\n",
    "def get_topleft_of_merged_cells(sheet, coordinate):\n",
    "    for merged_range in sheet.merged_cells.ranges:\n",
    "        if coordinate in merged_range:\n",
    "            # Return the top-left cell of this merged range\n",
    "            return merged_range.coord.split(\":\")[0]\n",
    "    return coordinate\n",
    "\n",
    "# Write data back to the sheet\n",
    "for key, value in result_data.items():\n",
    "    top_left = get_topleft_of_merged_cells(ws, key)  # Get the top-left cell of the range if it's part of a merged cell\n",
    "    ws[top_left] = value\n",
    "\n",
    "result_sheet.save('My_version_template_saved.xlsx')"
   ]
  }
 ],
 "metadata": {
  "kernelspec": {
   "display_name": "Python 3",
   "language": "python",
   "name": "python3"
  },
  "language_info": {
   "codemirror_mode": {
    "name": "ipython",
    "version": 3
   },
   "file_extension": ".py",
   "mimetype": "text/x-python",
   "name": "python",
   "nbconvert_exporter": "python",
   "pygments_lexer": "ipython3",
   "version": "3.13.0"
  }
 },
 "nbformat": 4,
 "nbformat_minor": 2
}
